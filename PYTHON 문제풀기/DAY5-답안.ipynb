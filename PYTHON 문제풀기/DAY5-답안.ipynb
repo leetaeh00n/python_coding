{
 "cells": [
  {
   "cell_type": "markdown",
   "id": "83e1adb1",
   "metadata": {},
   "source": [
    "## 3 6 9 게임\n",
    "3 6 9 게임은?  \n",
    "여러 사람이 순서를 정한 후, 순서대로 수를 부르는 게임이다.  \n",
    "만약 3, 6, 9 가 들어간 수를 자신이 불러야 하는 상황이라면, 수를 부르는 대신 \"박수(X)\" 를 쳐야 한다.  \n",
    "33과 같이 3,6,9가 두 번 들어간 수 일때, \"짝짝\"과 같이 박수를 두 번 치는 형태도 있다.  \n",
    "* 참고 \n",
    "```\n",
    "for i in range(1, n+1) :\n",
    "  if i%10==3 :\n",
    "    print(\"X\", end=' ')    #출력 후 공백문자(빈칸, ' ')로 끝냄\n",
    "```"
   ]
  },
  {
   "attachments": {},
   "cell_type": "markdown",
   "id": "590577a6",
   "metadata": {},
   "source": [
    "### 입력 예시\n",
    "1 부터 그 수까지 순서대로 공백을 두고 수를 출력하는데,  \n",
    "3 또는 6 또는 9가 포함 되어있는 수인 경우, 그 수 대신 영문 대문자 X 를 출력한다.  \n",
    "입력되는 정수는 `1 <= x <= 99`\n",
    "### 출력 예시\n",
    "9가 입력되면  \n",
    "1 2 X 4 5 X 7 8 X"
   ]
  },
  {
   "cell_type": "code",
   "execution_count": 24,
   "id": "7e34c9f2",
   "metadata": {},
   "outputs": [
    {
     "name": "stdout",
     "output_type": "stream",
     "text": [
      "숫자를 입력하세요33\n",
      "1 2 X 4 5 X 7 8 X 10 11 12 X 14 15 X 17 18 X 20 21 22 X 24 25 X 27 28 X X X X XX "
     ]
    }
   ],
   "source": [
    "x = int(input('숫자를 입력하세요'))\n",
    "\n",
    "for i in range(1, x+1):\n",
    "    j = str(i)\n",
    "    count = 0\n",
    "    for k in j:\n",
    "        if (k =='3') or (k=='6') or (k=='9'): \n",
    "            count += 1\n",
    "            \n",
    "    if count == 0:\n",
    "        print(i, end=' ')\n",
    "        \n",
    "    else:\n",
    "        print(count * 'X', end=' ')"
   ]
  },
  {
   "cell_type": "markdown",
   "id": "5dc5aa23",
   "metadata": {},
   "source": [
    "## 문자열 압축하기\n",
    "\n",
    "문자열을 입력받아서, 같은 문자가 연속적으로 반복되는 경우에 그 반복 횟수를 표시하여 문자열을 압축하기.  \n",
    "\n",
    "입력 예시: aaabbcccccca  \n",
    "\n",
    "출력 예시: a3b2c6a1  "
   ]
  },
  {
   "cell_type": "code",
   "execution_count": 36,
   "id": "0275649d",
   "metadata": {},
   "outputs": [
    {
     "name": "stdout",
     "output_type": "stream",
     "text": [
      "문자열을 입력하세요:aaggbbdd\n",
      "a2b2d2g2"
     ]
    }
   ],
   "source": [
    "x = input('문자열을 입력하세요:')\n",
    "xx = sorted(set(x))\n",
    "for i in xx:\n",
    "    count = 0\n",
    "    for j in x:\n",
    "        if i == j:\n",
    "            count+=1\n",
    "    print(f'{i}{count}', end='')"
   ]
  }
 ],
 "metadata": {
  "kernelspec": {
   "display_name": "Python 3 (ipykernel)",
   "language": "python",
   "name": "python3"
  },
  "language_info": {
   "codemirror_mode": {
    "name": "ipython",
    "version": 3
   },
   "file_extension": ".py",
   "mimetype": "text/x-python",
   "name": "python",
   "nbconvert_exporter": "python",
   "pygments_lexer": "ipython3",
   "version": "3.9.12"
  },
  "toc": {
   "base_numbering": 1,
   "nav_menu": {},
   "number_sections": false,
   "sideBar": true,
   "skip_h1_title": false,
   "title_cell": "Table of Contents",
   "title_sidebar": "Contents",
   "toc_cell": false,
   "toc_position": {},
   "toc_section_display": true,
   "toc_window_display": false
  }
 },
 "nbformat": 4,
 "nbformat_minor": 5
}
