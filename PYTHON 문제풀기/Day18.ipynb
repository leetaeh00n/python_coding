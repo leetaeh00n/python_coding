{
 "cells": [
  {
   "cell_type": "markdown",
   "id": "4b0c7903",
   "metadata": {},
   "source": [
    "## 제곱수 판별하기\n",
    "어떤 자연수를 제곱했을 때 나오는 정수를 제곱수라고 합니다.  \n",
    "정수 n이 매개변수로 주어질 때, n이 제곱수라면 1을 아니라면 2를 return하도록 solution 함수를 완성해주세요.\n"
   ]
  },
  {
   "cell_type": "markdown",
   "id": "276864f6",
   "metadata": {},
   "source": [
    "\n",
    "|n\t|result|\n",
    "|:-:|:-:|\n",
    "|144\t|1|\n",
    "|976\t|2|"
   ]
  },
  {
   "cell_type": "code",
   "execution_count": null,
   "id": "f60409fe",
   "metadata": {},
   "outputs": [],
   "source": [
    "def solution(n):\n",
    "    answer = 0\n",
    "    return answer"
   ]
  },
  {
   "cell_type": "markdown",
   "id": "b4983829",
   "metadata": {},
   "source": [
    "## 특이한 정렬\n",
    "정수 n을 기준으로 n과 가까운 수부터 정렬하려고 합니다.  \n",
    "이때 n으로부터의 거리가 같다면 더 큰 수를 앞에 오도록 배치합니다.  \n",
    "정수가 담긴 배열 numlist와 정수 n이 주어질 때  \n",
    "numlist의 원소를 n으로부터 가까운 순서대로 정렬한 배열을 return하도록 solution 함수를 완성해주세요."
   ]
  },
  {
   "cell_type": "markdown",
   "id": "8c85d97d",
   "metadata": {},
   "source": [
    "|numlist\t|n\t|result|\n",
    "|:-:|:-:|:-:|\n",
    "|[1, 2, 3, 4, 5, 6]|\t4\t|[4, 5, 3, 6, 2, 1]|\n",
    "|[10000,20,36,47,40,6,10,7000]|\t30\t|[36, 40, 20, 47, 10, 6, 7000, 10000]|"
   ]
  },
  {
   "cell_type": "markdown",
   "id": "2ccdee6c",
   "metadata": {},
   "source": [
    "* 30에서 가까운 순으로 [36, 40, 20, 47, 10, 6, 7000, 10000]을 return합니다.\n",
    "* 20과 40은 거리가 같으므로 더 큰 40이 앞에 와야 합니다."
   ]
  },
  {
   "cell_type": "markdown",
   "id": "f6cc9a2d",
   "metadata": {},
   "source": [
    "###### HINT\n",
    "sorted 구글링해볼것! (key)"
   ]
  },
  {
   "cell_type": "code",
   "execution_count": null,
   "id": "31ff4c17",
   "metadata": {},
   "outputs": [],
   "source": [
    "def solution(numlist, n):\n",
    "    answer = []\n",
    "    return answer"
   ]
  }
 ],
 "metadata": {
  "kernelspec": {
   "display_name": "Python 3 (ipykernel)",
   "language": "python",
   "name": "python3"
  },
  "language_info": {
   "codemirror_mode": {
    "name": "ipython",
    "version": 3
   },
   "file_extension": ".py",
   "mimetype": "text/x-python",
   "name": "python",
   "nbconvert_exporter": "python",
   "pygments_lexer": "ipython3",
   "version": "3.9.12"
  },
  "toc": {
   "base_numbering": 1,
   "nav_menu": {},
   "number_sections": false,
   "sideBar": true,
   "skip_h1_title": false,
   "title_cell": "Table of Contents",
   "title_sidebar": "Contents",
   "toc_cell": false,
   "toc_position": {},
   "toc_section_display": true,
   "toc_window_display": false
  }
 },
 "nbformat": 4,
 "nbformat_minor": 5
}
