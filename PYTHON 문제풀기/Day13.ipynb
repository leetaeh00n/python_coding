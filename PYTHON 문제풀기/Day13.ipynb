{
 "cells": [
  {
   "cell_type": "markdown",
   "id": "0e2584ae",
   "metadata": {},
   "source": [
    "## 숫자 문자열과 영단어\n",
    "\n",
    "네오와 프로도가 숫자놀이를 하고 있습니다.  \n",
    "네오가 프로도에게 숫자를 건넬 때 일부 자릿수를 영단어로 바꾼 카드를 건네주면 프로도는 원래 숫자를 찾는 게임입니다.  \n",
    "\n",
    "다음은 숫자의 일부 자릿수를 영단어로 바꾸는 예시입니다.  \n",
    "\n",
    "1478 → \"one4seveneight\"  \n",
    "234567 → \"23four5six7\"  \n",
    "10203 → \"1zerotwozero3\"  \n",
    "\n",
    "이렇게 숫자의 일부 자릿수가 영단어로 바뀌어졌거나, 혹은 바뀌지 않고 그대로인 문자열 s가 매개변수로 주어집니다.   \n",
    "s가 의미하는 원래 숫자를 return 하도록 solution 함수를 완성해주세요."
   ]
  },
  {
   "cell_type": "markdown",
   "id": "f2a778eb",
   "metadata": {},
   "source": [
    "|숫자|영단어|\n",
    "|:---:|:---:|\n",
    "|0|zero|\n",
    "|1|one|\n",
    "|2|two|\n",
    "|3|three|\n",
    "|4|four|\n",
    "|5|five|\n",
    "|6|six|\n",
    "|7|seven|\n",
    "|8|eight|\n",
    "|9|nine|"
   ]
  },
  {
   "cell_type": "markdown",
   "id": "91823f68",
   "metadata": {},
   "source": [
    "|입력|출력|\n",
    "|:-:|:-:|\n",
    "|`one4seveneight`|`1478`|\n",
    "|`23four5six7`|`234567`|\n",
    "|`2three45sixseven`|`234567`|\n",
    "|`123`|`123`|"
   ]
  },
  {
   "cell_type": "code",
   "execution_count": 1,
   "id": "4758f105",
   "metadata": {},
   "outputs": [],
   "source": [
    "def solution(s):\n",
    "    answer = 0\n",
    "    return answer"
   ]
  },
  {
   "cell_type": "markdown",
   "id": "8efe9ad5",
   "metadata": {},
   "source": [
    "## 약수의 개수와 덧셈\n",
    "두 정수 left와 right가 매개변수로 주어집니다.  \n",
    "left부터 right까지의 모든 수들 중에서, **약수의 개수가 짝수**인 수는 더하고,  \n",
    "**약수의 개수가 홀수**인 수는 뺀 수를 return 하도록 solution 함수를 완성해주세요."
   ]
  },
  {
   "cell_type": "markdown",
   "id": "074081ef",
   "metadata": {},
   "source": [
    "**입출력 예시**  "
   ]
  },
  {
   "cell_type": "markdown",
   "id": "6757cd35",
   "metadata": {},
   "source": [
    "|left|right|return|\n",
    "|:-:|:-:|:-:|\n",
    "|`13`|`17`|`43`|\n",
    "|`24`|`27`|`52`|"
   ]
  },
  {
   "cell_type": "code",
   "execution_count": 2,
   "id": "463989ad",
   "metadata": {},
   "outputs": [],
   "source": [
    "def solution(left, right):\n",
    "    answer = 0\n",
    "    return answer"
   ]
  }
 ],
 "metadata": {
  "kernelspec": {
   "display_name": "Python 3 (ipykernel)",
   "language": "python",
   "name": "python3"
  },
  "language_info": {
   "codemirror_mode": {
    "name": "ipython",
    "version": 3
   },
   "file_extension": ".py",
   "mimetype": "text/x-python",
   "name": "python",
   "nbconvert_exporter": "python",
   "pygments_lexer": "ipython3",
   "version": "3.9.12"
  },
  "toc": {
   "base_numbering": 1,
   "nav_menu": {},
   "number_sections": false,
   "sideBar": true,
   "skip_h1_title": false,
   "title_cell": "Table of Contents",
   "title_sidebar": "Contents",
   "toc_cell": false,
   "toc_position": {
    "height": "calc(100% - 180px)",
    "left": "10px",
    "top": "150px",
    "width": "384px"
   },
   "toc_section_display": true,
   "toc_window_display": false
  }
 },
 "nbformat": 4,
 "nbformat_minor": 5
}
