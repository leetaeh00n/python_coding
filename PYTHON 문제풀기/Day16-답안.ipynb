{
 "cells": [
  {
   "cell_type": "markdown",
   "id": "5fb38738",
   "metadata": {},
   "source": [
    "## 다음에 올 숫자\n",
    "등차수열 혹은 등비수열 common이 매개변수로 주어질 때, 마지막 원소 다음으로 올 숫자를 return 하도록 solution 함수를 완성해보세요.  \n",
    "\n",
    "* 등차수열 혹은 등비수열이 아닌 경우는 없습니다.\n",
    "* 공비가 0인 경우는 없습니다.\n"
   ]
  },
  {
   "cell_type": "markdown",
   "id": "5871fba3",
   "metadata": {},
   "source": [
    "|common|result|\n",
    "|:-:|:-:|\n",
    "|[1,2,3,4]|5|\n",
    "|[2,4,8]|16|"
   ]
  },
  {
   "cell_type": "code",
   "execution_count": 21,
   "id": "c8293dc0",
   "metadata": {},
   "outputs": [],
   "source": [
    "def solution(common):\n",
    "    d = common[1] - common[0]\n",
    "    if common[1] + d == common[2]:\n",
    "        answer = common[-1] + d\n",
    "    else:\n",
    "        d1 = common[1] // common[0]\n",
    "        answer = common[-1] * d1\n",
    "    return answer"
   ]
  },
  {
   "cell_type": "code",
   "execution_count": 22,
   "id": "c5237b27",
   "metadata": {},
   "outputs": [
    {
     "data": {
      "text/plain": [
       "16"
      ]
     },
     "execution_count": 22,
     "metadata": {},
     "output_type": "execute_result"
    }
   ],
   "source": [
    "solution([2,4,8])"
   ]
  },
  {
   "cell_type": "markdown",
   "id": "2429ea4d",
   "metadata": {},
   "source": [
    "## 숫자의 개수 2\n",
    "세 개의 자연수 A, B, C가 주어질 때 A × B × C를 계산한 결과에 0부터 9까지 각각의 숫자가 몇 번씩 쓰였는지를 구하는 프로그램을 작성하시오.  \n",
    "\n",
    "예를 들어 A = 150, B = 266, C = 427 이라면 A × B × C = 150 × 266 × 427 = 17037300 이 되고, 계산한 결과 17037300 에는 0이 3번, 1이 1번, 3이 2번, 7이 2번 쓰였다.  \n",
    "\n",
    "첫째 줄에는 A × B × C의 결과에 0 이 몇 번 쓰였는지 출력한다.  \n",
    "마찬가지로 둘째 줄부터 열 번째 줄까지 A × B × C의 결과에 1부터 9까지의 숫자가 각각 몇 번 쓰였는지 차례로 한 줄에 하나씩 출력한다."
   ]
  },
  {
   "cell_type": "code",
   "execution_count": 25,
   "id": "70f647ab",
   "metadata": {},
   "outputs": [
    {
     "name": "stdout",
     "output_type": "stream",
     "text": [
      "150\n",
      "266\n",
      "427\n",
      "3\n",
      "1\n",
      "0\n",
      "2\n",
      "0\n",
      "0\n",
      "0\n",
      "2\n",
      "0\n",
      "0\n"
     ]
    }
   ],
   "source": [
    "a = int(input())\n",
    "b = int(input())\n",
    "c = int(input())\n",
    "\n",
    "answer = str(a * b * c)\n",
    "for i in range(10):\n",
    "    print(answer.count(f'{i}'))"
   ]
  }
 ],
 "metadata": {
  "kernelspec": {
   "display_name": "Python 3 (ipykernel)",
   "language": "python",
   "name": "python3"
  },
  "language_info": {
   "codemirror_mode": {
    "name": "ipython",
    "version": 3
   },
   "file_extension": ".py",
   "mimetype": "text/x-python",
   "name": "python",
   "nbconvert_exporter": "python",
   "pygments_lexer": "ipython3",
   "version": "3.9.12"
  },
  "toc": {
   "base_numbering": 1,
   "nav_menu": {},
   "number_sections": false,
   "sideBar": true,
   "skip_h1_title": false,
   "title_cell": "Table of Contents",
   "title_sidebar": "Contents",
   "toc_cell": false,
   "toc_position": {},
   "toc_section_display": true,
   "toc_window_display": false
  }
 },
 "nbformat": 4,
 "nbformat_minor": 5
}
