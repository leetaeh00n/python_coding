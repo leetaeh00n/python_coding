{
 "cells": [
  {
   "cell_type": "markdown",
   "id": "21369cf2",
   "metadata": {},
   "source": [
    "## 7의 개수\n",
    "\n",
    "머쓱이는 행운의 숫자 7을 가장 좋아합니다.  \n",
    "정수 배열 array가 매개변수로 주어질 때, 7이 총 몇 개 있는지 return 하도록 solution 함수를 완성해보세요."
   ]
  },
  {
   "cell_type": "markdown",
   "id": "4de583c2",
   "metadata": {},
   "source": [
    "|array\t|result|\n",
    "|-|-|\n",
    "|[7, 77, 17]|\t4|\n",
    "|[10, 29]\t|0|"
   ]
  },
  {
   "cell_type": "code",
   "execution_count": 1,
   "id": "4ce82349",
   "metadata": {},
   "outputs": [],
   "source": [
    "def solution(array):\n",
    "    answer = 0\n",
    "    for i in array:\n",
    "        for j in str(i):\n",
    "            if j == '7':\n",
    "                answer += 1\n",
    "    return answer"
   ]
  },
  {
   "cell_type": "markdown",
   "id": "2424e773",
   "metadata": {},
   "source": [
    "## 직사각형 넓이 구하기\n",
    "2차원 좌표 평면에 변이 축과 평행한 직사각형이 있습니다.  \n",
    "직사각형 네 꼭짓점의 좌표 [[x1, y1], [x2, y2], [x3, y3], [x4, y4]]가 담겨있는 배열 dots가 매개변수로 주어질 때,  \n",
    "직사각형의 넓이를 return 하도록 solution 함수를 완성해보세요."
   ]
  },
  {
   "cell_type": "markdown",
   "id": "20b0c7c9",
   "metadata": {},
   "source": [
    "|dots|\tresult|\n",
    "|-|-|\n",
    "|[[1, 1], [2, 1], [2, 2], [1, 2]]|\t1|\n",
    "|[[-1, -1], [1, 1], [1, -1], [-1, 1]]|\t4|"
   ]
  },
  {
   "cell_type": "code",
   "execution_count": 2,
   "id": "4fa4ac46",
   "metadata": {},
   "outputs": [],
   "source": [
    "def solution(dots):\n",
    "    for i in range(len(dots)):\n",
    "        if dots[0][0] != dots[i][0]:\n",
    "            width = dots[0][0] - dots[i][0]\n",
    "        elif dots[0][1] != dots[i][1]:    \n",
    "            height = dots[0][1] - dots[i][1]\n",
    "    answer = abs(width * height)\n",
    "    return answer"
   ]
  }
 ],
 "metadata": {
  "kernelspec": {
   "display_name": "Python 3 (ipykernel)",
   "language": "python",
   "name": "python3"
  },
  "language_info": {
   "codemirror_mode": {
    "name": "ipython",
    "version": 3
   },
   "file_extension": ".py",
   "mimetype": "text/x-python",
   "name": "python",
   "nbconvert_exporter": "python",
   "pygments_lexer": "ipython3",
   "version": "3.9.12"
  },
  "toc": {
   "base_numbering": 1,
   "nav_menu": {},
   "number_sections": false,
   "sideBar": true,
   "skip_h1_title": false,
   "title_cell": "Table of Contents",
   "title_sidebar": "Contents",
   "toc_cell": false,
   "toc_position": {},
   "toc_section_display": true,
   "toc_window_display": false
  }
 },
 "nbformat": 4,
 "nbformat_minor": 5
}
