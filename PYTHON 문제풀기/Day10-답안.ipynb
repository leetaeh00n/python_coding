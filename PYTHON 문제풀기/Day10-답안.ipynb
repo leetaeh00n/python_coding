{
 "cells": [
  {
   "cell_type": "markdown",
   "id": "4b4e77ac",
   "metadata": {},
   "source": [
    "## 윤년\n",
    "연도가 주어졌을 때, 윤년이면 1, 아니면 0을 출력하는 프로그램을 작성하시오.  \n",
    "\n",
    "윤년은 연도가 4의 배수이면서, 100의 배수가 아닐 때 또는 400의 배수일 때이다.  \n",
    "\n",
    "예를 들어, 2012년은 4의 배수이면서 100의 배수가 아니라서 윤년이다.  \n",
    "1900년은 100의 배수이고 400의 배수는 아니기 때문에 윤년이 아니다.  \n",
    "하지만, 2000년은 400의 배수이기 때문에 윤년이다"
   ]
  },
  {
   "cell_type": "markdown",
   "id": "c66dea7c",
   "metadata": {},
   "source": [
    "첫째 줄에 연도가 주어진다. 연도는 1보다 크거나 같고, 4000보다 작거나 같은 자연수이다.  \n",
    "첫째 줄에 윤년이면 1, 아니면 0을 출력한다."
   ]
  },
  {
   "cell_type": "markdown",
   "id": "89abd80b",
   "metadata": {},
   "source": [
    "입력 : 2000, 출력 : 1  \n",
    "입력 : 1999, 출력 : 0"
   ]
  },
  {
   "cell_type": "code",
   "execution_count": 25,
   "id": "17e305eb",
   "metadata": {},
   "outputs": [
    {
     "name": "stdout",
     "output_type": "stream",
     "text": [
      "1<=n<=4000인 수를 입력하세요2000\n",
      "1\n"
     ]
    }
   ],
   "source": [
    "n = int(input('1<=n<=4000인 수를 입력하세요'))\n",
    "print(int((n % 4 == 0 and n % 100 != 0) or n % 400 == 0))"
   ]
  },
  {
   "cell_type": "markdown",
   "id": "18bc5ad3",
   "metadata": {},
   "source": [
    "## 팩토리얼\n",
    "0보다 크거나 같은 정수 N이 주어진다. 이때, N!을 출력하는 프로그램을 작성하시오.  \n",
    "  \n",
    "입력 : 10, 출력 : 3628800  \n",
    "입력 : 0, 출력 : 1"
   ]
  },
  {
   "cell_type": "code",
   "execution_count": 12,
   "id": "41cdb8e2",
   "metadata": {},
   "outputs": [
    {
     "name": "stdout",
     "output_type": "stream",
     "text": [
      "10\n",
      "3628800\n"
     ]
    }
   ],
   "source": [
    "n = int(input())\n",
    "k = 1\n",
    "for i in range(1, n+1):\n",
    "    k *= i\n",
    "print(k)"
   ]
  },
  {
   "cell_type": "markdown",
   "id": "5d4a1ff7",
   "metadata": {},
   "source": [
    "## 완전제곱수\n",
    "M과 N이 주어질 때 M이상 N이하의 자연수 중 완전제곱수인 것을 모두 골라 그 합을 구하고 그 중 최솟값을 찾는 프로그램을 작성하시오.   \n",
    "예를 들어 M=60, N=100인 경우  \n",
    "60이상 100이하의 자연수 중 완전제곱수는 64, 81, 100 이렇게 총 3개가 있으므로 그 합은 245가 되고 이 중 최솟값은 64가 된다.\n",
    "\n",
    "입력 : 60, 100, 출력 : 245, 64  \n",
    "입력 : 75, 80, 출력 : -1"
   ]
  },
  {
   "cell_type": "code",
   "execution_count": 34,
   "id": "2dde9347",
   "metadata": {},
   "outputs": [
    {
     "name": "stdout",
     "output_type": "stream",
     "text": [
      "60 100\n",
      "245\n",
      "64\n"
     ]
    }
   ],
   "source": [
    "m, n = map(int, input().split())\n",
    "# m = int(input())\n",
    "# n = int(input())\n",
    "num_list = []\n",
    "num = 1\n",
    "while num*num <= n:\n",
    "    if num*num in list(range(m, n+1)):\n",
    "        num_list.append(num*num)\n",
    "        num += 1\n",
    "    else:\n",
    "        num += 1\n",
    "if len(num_list) == 0:\n",
    "    print(-1)\n",
    "else:\n",
    "    print(sum(num_list))\n",
    "    print(min(num_list))"
   ]
  }
 ],
 "metadata": {
  "kernelspec": {
   "display_name": "Python 3 (ipykernel)",
   "language": "python",
   "name": "python3"
  },
  "language_info": {
   "codemirror_mode": {
    "name": "ipython",
    "version": 3
   },
   "file_extension": ".py",
   "mimetype": "text/x-python",
   "name": "python",
   "nbconvert_exporter": "python",
   "pygments_lexer": "ipython3",
   "version": "3.9.12"
  },
  "toc": {
   "base_numbering": 1,
   "nav_menu": {},
   "number_sections": false,
   "sideBar": true,
   "skip_h1_title": false,
   "title_cell": "Table of Contents",
   "title_sidebar": "Contents",
   "toc_cell": false,
   "toc_position": {},
   "toc_section_display": true,
   "toc_window_display": false
  }
 },
 "nbformat": 4,
 "nbformat_minor": 5
}
