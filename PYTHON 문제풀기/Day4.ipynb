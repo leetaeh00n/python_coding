{
 "cells": [
  {
   "cell_type": "markdown",
   "id": "0531704a",
   "metadata": {},
   "source": [
    "# 코딩도장\n",
    "## 1~1000에서 각 숫자의 개수 구하기\n",
    "예시)  \n",
    "10 ~ 15 까지의 각 숫자의 개수를 구해보자  \n",
    "10 = 1, 0  \n",
    "11 = 1, 1  \n",
    "12 = 1, 2  \n",
    "13 = 1, 3  \n",
    "14 = 1, 4  \n",
    "15 = 1, 5  \n",
    "그러므로 이 경우의 답은 0:1개, 1:7개, 2:1개, 3:1개, 4:1개, 5:1개"
   ]
  },
  {
   "cell_type": "code",
   "execution_count": null,
   "id": "cd91557a",
   "metadata": {},
   "outputs": [],
   "source": []
  },
  {
   "cell_type": "markdown",
   "id": "67d45675",
   "metadata": {},
   "source": [
    "## 중앙값 구하기\n",
    "\n",
    "[7, 9, 14] = 9  \n",
    "[24, 31, 35, 49] = 33  \n",
    "[17, 37, 37, 47, 57] = 37  \n",
    "\n",
    "중앙값 : 자료를 작은 값에서부터 크기순으로 나열할 때 중앙에 위치한 값  \n",
    "① 자료의 개수가 홀수이면 가운데 위치한 값이 중앙값이다.  \n",
    "② 자료의 개수가 짝수이면 가운데 위치한 두 값의 평균이 중앙값이다.  "
   ]
  },
  {
   "cell_type": "code",
   "execution_count": null,
   "id": "70207e4a",
   "metadata": {},
   "outputs": [],
   "source": []
  }
 ],
 "metadata": {
  "kernelspec": {
   "display_name": "Python 3 (ipykernel)",
   "language": "python",
   "name": "python3"
  },
  "language_info": {
   "codemirror_mode": {
    "name": "ipython",
    "version": 3
   },
   "file_extension": ".py",
   "mimetype": "text/x-python",
   "name": "python",
   "nbconvert_exporter": "python",
   "pygments_lexer": "ipython3",
   "version": "3.9.12"
  },
  "toc": {
   "base_numbering": 1,
   "nav_menu": {},
   "number_sections": false,
   "sideBar": true,
   "skip_h1_title": false,
   "title_cell": "Table of Contents",
   "title_sidebar": "Contents",
   "toc_cell": false,
   "toc_position": {},
   "toc_section_display": true,
   "toc_window_display": false
  }
 },
 "nbformat": 4,
 "nbformat_minor": 5
}
