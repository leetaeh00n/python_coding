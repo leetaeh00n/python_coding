{
 "cells": [
  {
   "cell_type": "markdown",
   "id": "f163347d",
   "metadata": {},
   "source": [
    "## 나머지가 1이 되는 수 찾기\n",
    "\n",
    "자연수 n이 매개변수로 주어집니다.  \n",
    "n을 x로 나눈 나머지가 1이 되도록 하는 가장 작은 자연수 x를 return하세요."
   ]
  },
  {
   "cell_type": "markdown",
   "id": "34959ff0",
   "metadata": {},
   "source": [
    "입력 n : 10, 출력 : 3  \n",
    "입력 : 12, 출력 : 11"
   ]
  },
  {
   "cell_type": "code",
   "execution_count": null,
   "id": "a3a4b065",
   "metadata": {},
   "outputs": [],
   "source": [
    "def solution(n):\n",
    "    answer = 0\n",
    "    return answer"
   ]
  },
  {
   "cell_type": "code",
   "execution_count": 12,
   "id": "746acfdd",
   "metadata": {},
   "outputs": [],
   "source": [
    "def solution(n):\n",
    "    for x in range(1,n):\n",
    "        if n % x == 1:\n",
    "            return x\n",
    "            break"
   ]
  },
  {
   "cell_type": "code",
   "execution_count": 13,
   "id": "fdc8a8c8",
   "metadata": {},
   "outputs": [
    {
     "data": {
      "text/plain": [
       "5"
      ]
     },
     "execution_count": 13,
     "metadata": {},
     "output_type": "execute_result"
    }
   ],
   "source": [
    "solution(6)"
   ]
  },
  {
   "cell_type": "markdown",
   "id": "9ce374b0",
   "metadata": {},
   "source": [
    "## 없는 숫자 더하기\n",
    "0부터 9까지의 숫자 중 일부가 들어있는 정수 배열 `numbers`가 매개변수로 주어집니다.  \n",
    "`numbers`에서 찾을 수 없는 0부터 9까지의 숫자를 모두 찾아 더한 수를 return하세요"
   ]
  },
  {
   "cell_type": "markdown",
   "id": "c1f853f9",
   "metadata": {},
   "source": [
    "`numbers` = [1,2,3,4,6,7,8,0]  \n",
    "결과 : 14  \n",
    "`numbers` = [5,8,4,0,6,7,9]  \n",
    "결과 : 6  "
   ]
  },
  {
   "cell_type": "code",
   "execution_count": null,
   "id": "800f1cb1",
   "metadata": {},
   "outputs": [],
   "source": [
    "def solution(numbers):\n",
    "    answer = -1\n",
    "    return answer"
   ]
  },
  {
   "cell_type": "code",
   "execution_count": 14,
   "id": "17ee6157",
   "metadata": {},
   "outputs": [],
   "source": [
    "def solution(numbers):\n",
    "    answer = 0\n",
    "    for i in range(1,10):\n",
    "        if i not in numbers:\n",
    "            answer += i\n",
    "    return answer"
   ]
  },
  {
   "cell_type": "code",
   "execution_count": 15,
   "id": "05c2f02b",
   "metadata": {},
   "outputs": [
    {
     "data": {
      "text/plain": [
       "14"
      ]
     },
     "execution_count": 15,
     "metadata": {},
     "output_type": "execute_result"
    }
   ],
   "source": [
    "solution([1,2,3,4,6,7,8,0])"
   ]
  }
 ],
 "metadata": {
  "kernelspec": {
   "display_name": "Python 3 (ipykernel)",
   "language": "python",
   "name": "python3"
  },
  "language_info": {
   "codemirror_mode": {
    "name": "ipython",
    "version": 3
   },
   "file_extension": ".py",
   "mimetype": "text/x-python",
   "name": "python",
   "nbconvert_exporter": "python",
   "pygments_lexer": "ipython3",
   "version": "3.9.12"
  },
  "toc": {
   "base_numbering": 1,
   "nav_menu": {},
   "number_sections": false,
   "sideBar": true,
   "skip_h1_title": false,
   "title_cell": "Table of Contents",
   "title_sidebar": "Contents",
   "toc_cell": false,
   "toc_position": {},
   "toc_section_display": true,
   "toc_window_display": false
  }
 },
 "nbformat": 4,
 "nbformat_minor": 5
}
