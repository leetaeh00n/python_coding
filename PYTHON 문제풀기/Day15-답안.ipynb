{
 "cells": [
  {
   "cell_type": "markdown",
   "id": "1ad43c90",
   "metadata": {},
   "source": [
    "## 같은 숫자는 싫어\n",
    "\n",
    "배열 arr가 주어집니다. 배열 arr의 각 원소는 숫자 0부터 9까지로 이루어져 있습니다.  \n",
    "이때, 배열 arr에서 연속적으로 나타나는 숫자는 하나만 남기고 전부 제거하려고 합니다.  \n",
    "단, 제거된 후 남은 수들을 반환할 때는 배열 arr의 원소들의 순서를 유지해야 합니다.  \n",
    "\n",
    "예를 들면,\n",
    "\n",
    "* arr = [1, 1, 3, 3, 0, 1, 1] 이면 [1, 3, 0, 1] 을 return 합니다.\n",
    "* arr = [4, 4, 4, 3, 3] 이면 [4, 3] 을 return 합니다.  \n",
    "\n",
    "배열 arr에서 연속적으로 나타나는 숫자는 제거하고 남은 수들을 return 하는 solution 함수를 완성해 주세요.\n",
    "\n",
    "제한사항)  \n",
    "* 배열 arr의 크기 : 1,000,000 이하의 자연수\n",
    "* 배열 arr의 원소의 크기 : 0보다 크거나 같고 9보다 작거나 같은 정수"
   ]
  },
  {
   "cell_type": "code",
   "execution_count": 13,
   "id": "9e147f8e",
   "metadata": {},
   "outputs": [],
   "source": [
    "def solution(arr):\n",
    "    answer=[]\n",
    "    for i in range(1, len(arr)):\n",
    "        try:\n",
    "            if arr[i-1] == arr[i]:\n",
    "                pass\n",
    "            else:\n",
    "                answer.append(arr[i-1])\n",
    "        except:\n",
    "            continue\n",
    "    answer.append(arr[-1])\n",
    "    return answer"
   ]
  },
  {
   "cell_type": "code",
   "execution_count": 14,
   "id": "83ad9b97",
   "metadata": {},
   "outputs": [
    {
     "data": {
      "text/plain": [
       "[1, 3, 0, 1]"
      ]
     },
     "execution_count": 14,
     "metadata": {},
     "output_type": "execute_result"
    }
   ],
   "source": [
    "solution([1, 1, 3, 3, 0, 1, 1])"
   ]
  },
  {
   "cell_type": "code",
   "execution_count": 15,
   "id": "9551bc67",
   "metadata": {},
   "outputs": [
    {
     "data": {
      "text/plain": [
       "[4, 3]"
      ]
     },
     "execution_count": 15,
     "metadata": {},
     "output_type": "execute_result"
    }
   ],
   "source": [
    "solution([4, 4, 4, 3, 3])"
   ]
  },
  {
   "cell_type": "markdown",
   "id": "f1fcd84c",
   "metadata": {},
   "source": [
    "## 종이자르기\n",
    "머쓱이는 큰 종이를 1 x 1 크기\b로 자르려고 합니다.  \n",
    "예를 들어 2 x 2 크기의 종이를 1 x 1 크기로 자르려면 최소 가위질 세 번이 필요합니다.\n",
    "\n",
    "정수 M, N이 매개변수로 주어질 때,  \n",
    "M x N 크기의 종이를 최소로 가위질 해야하는 횟수를 return 하도록 solution 함수를 완성해보세요."
   ]
  },
  {
   "cell_type": "markdown",
   "id": "a4753712",
   "metadata": {},
   "source": [
    "|M|N|answer|\n",
    "|:-:|:-:|:-:|\n",
    "|2|2|3|\n",
    "|2|5|9|\n",
    "|1|1|0|"
   ]
  },
  {
   "cell_type": "code",
   "execution_count": 8,
   "id": "fa0b0c84",
   "metadata": {},
   "outputs": [],
   "source": [
    "def solution(M, N):\n",
    "    return N*M -1"
   ]
  },
  {
   "cell_type": "code",
   "execution_count": 11,
   "id": "d409f5eb",
   "metadata": {},
   "outputs": [
    {
     "name": "stdout",
     "output_type": "stream",
     "text": [
      "3\n",
      "9\n",
      "0\n"
     ]
    }
   ],
   "source": [
    "print(solution(2,2))\n",
    "print(solution(2,5))\n",
    "print(solution(1,1))"
   ]
  }
 ],
 "metadata": {
  "kernelspec": {
   "display_name": "Python 3 (ipykernel)",
   "language": "python",
   "name": "python3"
  },
  "language_info": {
   "codemirror_mode": {
    "name": "ipython",
    "version": 3
   },
   "file_extension": ".py",
   "mimetype": "text/x-python",
   "name": "python",
   "nbconvert_exporter": "python",
   "pygments_lexer": "ipython3",
   "version": "3.9.12"
  },
  "toc": {
   "base_numbering": 1,
   "nav_menu": {},
   "number_sections": false,
   "sideBar": true,
   "skip_h1_title": false,
   "title_cell": "Table of Contents",
   "title_sidebar": "Contents",
   "toc_cell": false,
   "toc_position": {},
   "toc_section_display": true,
   "toc_window_display": false
  }
 },
 "nbformat": 4,
 "nbformat_minor": 5
}
