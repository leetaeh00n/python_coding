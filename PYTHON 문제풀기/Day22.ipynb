{
 "cells": [
  {
   "cell_type": "markdown",
   "id": "98b31396",
   "metadata": {},
   "source": [
    "## 한 번만 등장한 문자 \n",
    "문자열 s가 매개변수로 주어집니다.  \n",
    "s에서 한 번만 등장하는 문자를 사전 순으로 정렬한 문자열을 return 하도록 solution 함수를 완성해보세요.  \n",
    "한 번만 등장하는 문자가 없을 경우 빈 문자열을 return 합니다."
   ]
  },
  {
   "cell_type": "markdown",
   "id": "4a9c5705",
   "metadata": {},
   "source": [
    "|s\t|result|\n",
    "|-|-|\n",
    "|\"abcabcadc\"\t|\"d\"|\n",
    "|\"abdc\"|\t\"abcd\"|\n",
    "|\"hello\"|\t\"eho\"|"
   ]
  },
  {
   "cell_type": "code",
   "execution_count": null,
   "id": "a15d2a8e",
   "metadata": {},
   "outputs": [],
   "source": [
    "def solution(s):\n",
    "    return answer"
   ]
  },
  {
   "cell_type": "markdown",
   "id": "58b6f7f1",
   "metadata": {},
   "source": [
    "## 구슬을 나누는 경우의 수\n",
    "머쓱이는 구슬을 친구들에게 나누어주려고 합니다.  \n",
    "구슬은 모두 다르게 생겼습니다.  \n",
    "머쓱이가 갖고 있는 구슬의 개수 balls와 친구들에게 나누어 줄 구슬 개수 share이 매개변수로 주어질 때,  \n",
    "balls개의 구슬 중 share개의 구슬을 고르는 가능한 모든 경우의 수를 return 하는 solution 함수를 완성해주세요."
   ]
  },
  {
   "cell_type": "markdown",
   "id": "a50c996d",
   "metadata": {},
   "source": [
    "|balls|\tshare\t|result|\n",
    "|-|-|-|\n",
    "|3|\t2\t|3|\n",
    "|5|\t3\t|10|"
   ]
  },
  {
   "cell_type": "code",
   "execution_count": 1,
   "id": "e41a2ebc",
   "metadata": {},
   "outputs": [],
   "source": [
    "def solution(balls, share):\n",
    "    return answer"
   ]
  }
 ],
 "metadata": {
  "kernelspec": {
   "display_name": "Python 3 (ipykernel)",
   "language": "python",
   "name": "python3"
  },
  "language_info": {
   "codemirror_mode": {
    "name": "ipython",
    "version": 3
   },
   "file_extension": ".py",
   "mimetype": "text/x-python",
   "name": "python",
   "nbconvert_exporter": "python",
   "pygments_lexer": "ipython3",
   "version": "3.9.12"
  },
  "toc": {
   "base_numbering": 1,
   "nav_menu": {},
   "number_sections": true,
   "sideBar": true,
   "skip_h1_title": false,
   "title_cell": "Table of Contents",
   "title_sidebar": "Contents",
   "toc_cell": false,
   "toc_position": {},
   "toc_section_display": true,
   "toc_window_display": false
  }
 },
 "nbformat": 4,
 "nbformat_minor": 5
}
