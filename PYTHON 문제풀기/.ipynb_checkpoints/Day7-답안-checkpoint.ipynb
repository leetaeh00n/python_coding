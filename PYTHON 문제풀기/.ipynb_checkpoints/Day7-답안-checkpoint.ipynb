{
 "cells": [
  {
   "cell_type": "markdown",
   "id": "ecb72e40",
   "metadata": {},
   "source": [
    "## 시각\n",
    "정수 N이 입력되면 00시00분00초부터 N시 59분 59초까지의 모든 시각 중에서 3이 하나라도 포함되는 모든 경우의 수를 구하는 프로그램을 작성하시오.  \n",
    "예를 들어  \n",
    "1을 입력했을 때 3이 하나라도 포함된 시각은\n",
    "* 00시 00분 03초\n",
    "* 00시 13분 30초  \n",
    " \n",
    "3이 하나도 포함되어 있지 않는 시각은  \n",
    "* 00시 02분 55초\n",
    "* 01시 27분 45초\n",
    "\n",
    "정답 예시)  \n",
    "입력 : 5  \n",
    "출력 : 11475"
   ]
  },
  {
   "cell_type": "code",
   "execution_count": 10,
   "id": "a10c7824",
   "metadata": {},
   "outputs": [
    {
     "name": "stdout",
     "output_type": "stream",
     "text": [
      "정수를 입력하세요 : 5\n",
      "11475\n"
     ]
    }
   ],
   "source": [
    "n = int(input('정수를 입력하세요 : '))\n",
    "count = 0\n",
    "for i in range(n+1):\n",
    "    for j in range(60):\n",
    "        for k in range(60):\n",
    "            if '3' in str(i) + str(j) + str(k):\n",
    "                count += 1\n",
    "print(count)"
   ]
  },
  {
   "cell_type": "code",
   "execution_count": 11,
   "id": "83145f40",
   "metadata": {},
   "outputs": [
    {
     "name": "stdout",
     "output_type": "stream",
     "text": [
      "5\n",
      "11475\n"
     ]
    }
   ],
   "source": [
    "n = int(input())\n",
    "ct_three = [3, 13, 23, 30,31,32,33,34,35,36,37,38,39, 43, 53]\n",
    "count = 0\n",
    "for i in range(n+1):\n",
    "    for j in range(60):\n",
    "        for k in range(60):\n",
    "            if k in ct_three:\n",
    "                count += 1\n",
    "            elif j in ct_three:\n",
    "                count += 1\n",
    "            elif i in ct_three:\n",
    "                count += 1\n",
    "\n",
    "print(count)"
   ]
  },
  {
   "cell_type": "markdown",
   "id": "d36cd73c",
   "metadata": {},
   "source": [
    "## $2^{1000}$의 각 자릿수의 합은?\n",
    "$2^{15} = 32768$ 의 각 자리수를 더하면 3 + 2 + 7 + 6 + 8 = 26 입니다.  \n",
    "$2^{1000}$의 각 자리수를 모두 더하면 얼마입니까?"
   ]
  },
  {
   "cell_type": "code",
   "execution_count": 4,
   "id": "36b667fb",
   "metadata": {},
   "outputs": [
    {
     "name": "stdout",
     "output_type": "stream",
     "text": [
      "1366\n"
     ]
    }
   ],
   "source": [
    "a = 2**1000\n",
    "b = str(a)\n",
    "c = []\n",
    "for i in b:\n",
    "    c.append(int(i))\n",
    "\n",
    "print(sum(c))"
   ]
  },
  {
   "cell_type": "code",
   "execution_count": 5,
   "id": "3a2ed00b",
   "metadata": {},
   "outputs": [
    {
     "name": "stdout",
     "output_type": "stream",
     "text": [
      "1366\n"
     ]
    }
   ],
   "source": [
    "print(sum([int(i) for i in str(2**1000)]))"
   ]
  }
 ],
 "metadata": {
  "kernelspec": {
   "display_name": "Python 3 (ipykernel)",
   "language": "python",
   "name": "python3"
  },
  "language_info": {
   "codemirror_mode": {
    "name": "ipython",
    "version": 3
   },
   "file_extension": ".py",
   "mimetype": "text/x-python",
   "name": "python",
   "nbconvert_exporter": "python",
   "pygments_lexer": "ipython3",
   "version": "3.9.12"
  },
  "toc": {
   "base_numbering": 1,
   "nav_menu": {},
   "number_sections": false,
   "sideBar": true,
   "skip_h1_title": false,
   "title_cell": "Table of Contents",
   "title_sidebar": "Contents",
   "toc_cell": false,
   "toc_position": {
    "height": "calc(100% - 180px)",
    "left": "10px",
    "top": "150px",
    "width": "297.391px"
   },
   "toc_section_display": true,
   "toc_window_display": false
  }
 },
 "nbformat": 4,
 "nbformat_minor": 5
}
