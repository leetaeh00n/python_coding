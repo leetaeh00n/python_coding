{
 "cells": [
  {
   "cell_type": "markdown",
   "id": "27a9e530",
   "metadata": {},
   "source": [
    "## 최빈값 구하기\n",
    "최빈값은 주어진 값 중에서 가장 자주 나오는 값을 의미합니다.  \n",
    "정수 배열 array가 매개변수로 주어질 때, 최빈값을 return 하도록 solution 함수를 완성해보세요.  \n",
    "최빈값이 여러 개면 -1을 return 합니다."
   ]
  },
  {
   "cell_type": "markdown",
   "id": "5ab28614",
   "metadata": {},
   "source": [
    "|array\t|result|\n",
    "|-|-|\n",
    "|[1, 2, 3, 3, 3, 4]|\t3|\n",
    "|[1, 1, 2, 2]|\t-1|\n",
    "|[1]|\t1|"
   ]
  },
  {
   "cell_type": "code",
   "execution_count": 1,
   "id": "4118e2a4",
   "metadata": {},
   "outputs": [],
   "source": [
    "def solution(array):\n",
    "    answer1 = {}\n",
    "    for i in list(set(array)):\n",
    "        answer1[i] = array.count(i)\n",
    "\n",
    "    answer = [k for k, v in answer1.items() if v == max(answer1.values())]\n",
    "\n",
    "    if len(answer) != 1:\n",
    "        print(-1)\n",
    "    else:\n",
    "        print(answer[0])\n",
    "    return answer"
   ]
  },
  {
   "cell_type": "markdown",
   "id": "25e03cbd",
   "metadata": {},
   "source": [
    "## 정수 내림차순으로 배치하기\n",
    "함수 solution은 정수 n을 매개변수로 입력받습니다.  \n",
    "n의 각 자릿수를 큰것부터 작은 순으로 정렬한 새로운 정수를 리턴해주세요.  \n",
    "예를들어 n이 118372면 873211을 리턴하면 됩니다."
   ]
  },
  {
   "cell_type": "markdown",
   "id": "a4dd74e5",
   "metadata": {},
   "source": [
    "|n|\treturn|\n",
    "|-|-|\n",
    "|118372|\t873211|"
   ]
  },
  {
   "cell_type": "code",
   "execution_count": 19,
   "id": "a54d75c6",
   "metadata": {},
   "outputs": [],
   "source": [
    "def solution(n):\n",
    "    return int(('').join(sorted(list(str(n)), reverse=True)))"
   ]
  }
 ],
 "metadata": {
  "kernelspec": {
   "display_name": "Python 3 (ipykernel)",
   "language": "python",
   "name": "python3"
  },
  "language_info": {
   "codemirror_mode": {
    "name": "ipython",
    "version": 3
   },
   "file_extension": ".py",
   "mimetype": "text/x-python",
   "name": "python",
   "nbconvert_exporter": "python",
   "pygments_lexer": "ipython3",
   "version": "3.9.12"
  },
  "toc": {
   "base_numbering": 1,
   "nav_menu": {},
   "number_sections": false,
   "sideBar": true,
   "skip_h1_title": false,
   "title_cell": "Table of Contents",
   "title_sidebar": "Contents",
   "toc_cell": false,
   "toc_position": {},
   "toc_section_display": true,
   "toc_window_display": false
  }
 },
 "nbformat": 4,
 "nbformat_minor": 5
}
