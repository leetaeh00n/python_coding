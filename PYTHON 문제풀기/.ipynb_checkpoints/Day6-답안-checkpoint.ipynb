{
 "cells": [
  {
   "cell_type": "markdown",
   "id": "8b01574c",
   "metadata": {},
   "source": [
    "# 문제를 풀기 전,,"
   ]
  },
  {
   "cell_type": "code",
   "execution_count": 5,
   "id": "4c4baeda",
   "metadata": {},
   "outputs": [
    {
     "name": "stdout",
     "output_type": "stream",
     "text": [
      "1 2\n",
      "1 2\n"
     ]
    }
   ],
   "source": [
    "a, b = input().split()\n",
    "## 위와 같이 코드를 짜면 값을 입력할때 ' ' 한 칸 띄어서 입력하면 a 에는 첫 번째 입력값 b에는 두 번째 입력값이 들어가게됨."
   ]
  },
  {
   "cell_type": "code",
   "execution_count": 7,
   "id": "a1da8a38",
   "metadata": {},
   "outputs": [
    {
     "name": "stdout",
     "output_type": "stream",
     "text": [
      "1 2\n"
     ]
    },
    {
     "data": {
      "text/plain": [
       "int"
      ]
     },
     "execution_count": 7,
     "metadata": {},
     "output_type": "execute_result"
    }
   ],
   "source": [
    "a, b = map(int, input().split())\n",
    "type(a)\n",
    "## 입력받은 값을 int로 지정하려면 map함수를 이용해서 입력값을 int로 변환할 수 있음."
   ]
  },
  {
   "cell_type": "markdown",
   "id": "476e90fb",
   "metadata": {},
   "source": [
    "## 거스름돈\n",
    "당신은 음식점의 계산을 도와주는 점원이다.  \n",
    "카운터에는 거스름돈으로 사용할 500원, 100원, 50원, 10원짜리 동전이 무한히 존재한다고 가정한다.  \n",
    "손님에게 거슬러 줘야 할 돈이 N원 일 때 거슬러 줘야 할 동전의 최소 개수를 구하라.  \n",
    "단, 거슬러 줘야 할 돈 N은 항상 10의 배수이다."
   ]
  },
  {
   "cell_type": "markdown",
   "id": "fa4ebcc4",
   "metadata": {},
   "source": [
    "HINT)  \n",
    "가장 큰 화폐 단위부터 돈을 거슬러 준다.  \n",
    "N원을 거슬러 줄 때 500원, 100원, 50원, 10원 차례대로 거슬러 줄 수 있을 만큼 거슬러 준다"
   ]
  },
  {
   "cell_type": "code",
   "execution_count": null,
   "id": "fc42c7e4",
   "metadata": {},
   "outputs": [],
   "source": [
    "N = int(input('거스름돈:'))\n",
    "\n",
    "money = [500, 100, 50, 10]\n",
    "\n",
    "for coin in money:\n",
    "    count = N // coin\n",
    "    N = N % coin\n",
    "    print(f'{coin}원 개수: {count}')\n"
   ]
  },
  {
   "cell_type": "markdown",
   "id": "7e1a4827",
   "metadata": {},
   "source": [
    "## 1이 될 때 까지\n",
    "어떠한 수 N이 1이 될 때까지 다음의 두 과정 중 하나를 반복적으로 선택하여 수행하려고 한다.  \n",
    "단, 두 번째 연산은 N이 K로 나누어떨어질 때만 선택할 수 있다.  \n",
    "1. N에서 1을 뺀다\n",
    "1. N을 K로 나눈다.  \n",
    "\n",
    "예)  \n",
    "N = 17, K = 4라고 가정하면, 1번의 과정을 수행하면 N은 16이 되고, 이후에 2번의 과정을 `두 번` 수행하게 되면 N은 1이 된다.  \n",
    "결과적으로 이 경우 전체 과정을 실행한 횟수는 3이 된다.  \n",
    "이것이 N을 1로 만드는 최소 횟수이다."
   ]
  },
  {
   "cell_type": "code",
   "execution_count": 3,
   "id": "597f332e",
   "metadata": {},
   "outputs": [
    {
     "name": "stdout",
     "output_type": "stream",
     "text": [
      "15 3\n",
      "4\n"
     ]
    }
   ],
   "source": [
    "n, k = map(int, input().split())\n",
    "\n",
    "count = 0\n",
    "while n != 1:\n",
    "    if n % k == 0:\n",
    "        n = n / k\n",
    "        count += 1\n",
    "    else:\n",
    "        n -= 1\n",
    "        count += 1\n",
    "\n",
    "print(count)\n"
   ]
  }
 ],
 "metadata": {
  "kernelspec": {
   "display_name": "Python 3 (ipykernel)",
   "language": "python",
   "name": "python3"
  },
  "language_info": {
   "codemirror_mode": {
    "name": "ipython",
    "version": 3
   },
   "file_extension": ".py",
   "mimetype": "text/x-python",
   "name": "python",
   "nbconvert_exporter": "python",
   "pygments_lexer": "ipython3",
   "version": "3.9.12"
  },
  "toc": {
   "base_numbering": 1,
   "nav_menu": {},
   "number_sections": false,
   "sideBar": true,
   "skip_h1_title": false,
   "title_cell": "Table of Contents",
   "title_sidebar": "Contents",
   "toc_cell": false,
   "toc_position": {},
   "toc_section_display": true,
   "toc_window_display": true
  }
 },
 "nbformat": 4,
 "nbformat_minor": 5
}
