{
 "cells": [
  {
   "cell_type": "markdown",
   "id": "0d284abf",
   "metadata": {},
   "source": [
    "## 최댓값 만들기\n",
    "정수 배열 numbers가 매개변수로 주어집니다.  \n",
    "numbers의 원소 중 두 개를 곱해 만들 수 있는 최댓값을 return하도록 solution 함수를 완성해주세요.  "
   ]
  },
  {
   "cell_type": "markdown",
   "id": "e5bf731c",
   "metadata": {},
   "source": [
    "|numbers|result|\n",
    "|-|-|\n",
    "|[1, 2, -3, 4, -5]|15|\n",
    "|[0, -31, 24, 10, 1, 9]|240|\n",
    "|[10, 20, 30, 5, 5, 20, 5]|600|"
   ]
  },
  {
   "cell_type": "markdown",
   "id": "df61ac74",
   "metadata": {},
   "source": [
    "-3 x -5 = 15  \n",
    "10 x 24 = 240  \n",
    "20 x 30 = 600"
   ]
  },
  {
   "cell_type": "code",
   "execution_count": 4,
   "id": "1668ba57",
   "metadata": {},
   "outputs": [],
   "source": [
    "def solution(numbers):\n",
    "    n = len(numbers)\n",
    "    a = sorted(numbers)[0] * sorted(numbers)[1]\n",
    "    b = sorted(numbers)[n-1] * sorted(numbers)[n-2]\n",
    "    answer = max(a,b)\n",
    "    return answer"
   ]
  },
  {
   "cell_type": "code",
   "execution_count": 5,
   "id": "dfd57b0b",
   "metadata": {},
   "outputs": [
    {
     "data": {
      "text/plain": [
       "240"
      ]
     },
     "execution_count": 5,
     "metadata": {},
     "output_type": "execute_result"
    }
   ],
   "source": [
    "solution([0, -31, 24, 10, 1, 9])"
   ]
  },
  {
   "cell_type": "markdown",
   "id": "cbddc490",
   "metadata": {},
   "source": [
    "## 두 정수 사이의 합\n",
    "두 정수 a, b가 주어졌을 때 a와 b 사이에 속한 모든 정수의 합을 리턴하는 함수, solution을 완성하세요.  \n",
    "예를 들어 a = 3, b = 5인 경우, 3 + 4 + 5 = 12이므로 12를 리턴합니다.\n",
    "\n",
    "* a와 b가 같은 경우는 둘 중 아무 수나 리턴하세요.\n",
    "* a와 b는 -10,000,000 이상 10,000,000 이하인 정수입니다.\n",
    "* a와 b의 대소관계는 정해져있지 않습니다."
   ]
  },
  {
   "cell_type": "markdown",
   "id": "376277e4",
   "metadata": {},
   "source": [
    "|a|\tb|\treturn|\n",
    "|-|-|-|\n",
    "|3|\t5|\t12|\n",
    "|3|\t3|\t3|\n",
    "|5|\t3\t|12|"
   ]
  },
  {
   "cell_type": "code",
   "execution_count": 34,
   "id": "e81c1e72",
   "metadata": {},
   "outputs": [],
   "source": [
    "def solution(a,b):\n",
    "    if abs(a - b) % 2: # 짝수\n",
    "        answer = (a+b) * ((abs(a-b) + 1) // 2)       \n",
    "    elif abs(a - b) % 2 + 1:\n",
    "        answer = (a+b) // 2 * (abs(a-b) + 1)\n",
    "    else:\n",
    "        answer = a\n",
    "    return answer"
   ]
  },
  {
   "cell_type": "code",
   "execution_count": 40,
   "id": "f5828f56",
   "metadata": {},
   "outputs": [
    {
     "data": {
      "text/plain": [
       "12"
      ]
     },
     "execution_count": 40,
     "metadata": {},
     "output_type": "execute_result"
    }
   ],
   "source": [
    "solution(3,5)"
   ]
  },
  {
   "cell_type": "code",
   "execution_count": 38,
   "id": "84b11633",
   "metadata": {},
   "outputs": [],
   "source": [
    "def solution(a,b):\n",
    "    if a < b:\n",
    "        a,b = b,a\n",
    "    return sum(range(b,a+1))"
   ]
  }
 ],
 "metadata": {
  "kernelspec": {
   "display_name": "Python 3 (ipykernel)",
   "language": "python",
   "name": "python3"
  },
  "language_info": {
   "codemirror_mode": {
    "name": "ipython",
    "version": 3
   },
   "file_extension": ".py",
   "mimetype": "text/x-python",
   "name": "python",
   "nbconvert_exporter": "python",
   "pygments_lexer": "ipython3",
   "version": "3.9.12"
  },
  "toc": {
   "base_numbering": 1,
   "nav_menu": {},
   "number_sections": true,
   "sideBar": true,
   "skip_h1_title": false,
   "title_cell": "Table of Contents",
   "title_sidebar": "Contents",
   "toc_cell": false,
   "toc_position": {},
   "toc_section_display": true,
   "toc_window_display": false
  }
 },
 "nbformat": 4,
 "nbformat_minor": 5
}
