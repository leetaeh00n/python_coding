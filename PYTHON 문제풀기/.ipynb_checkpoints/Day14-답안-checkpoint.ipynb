{
 "cells": [
  {
   "cell_type": "markdown",
   "id": "35e41577",
   "metadata": {},
   "source": [
    "## 내적\n",
    "\n",
    "길이가 같은 두 1차원 정수 배열 a, b가 매개변수로 주어집니다.  \n",
    "a와 b의 내적을 return 하도록 solution 함수를 완성해주세요."
   ]
  },
  {
   "cell_type": "markdown",
   "id": "ed3fd9a9",
   "metadata": {},
   "source": [
    "|a|b|result|\n",
    "|:-:|:-:|:-:|\n",
    "|[1,2,3,4]|[-3,-1,0,2]|3|\n",
    "|[-1,0,1]|[1,0,-1]|-2|"
   ]
  },
  {
   "cell_type": "code",
   "execution_count": 1,
   "id": "21096667",
   "metadata": {},
   "outputs": [],
   "source": [
    "def solution(a, b):\n",
    "    answer = 0\n",
    "    for i, j in zip(a, b):\n",
    "        inner = i * j\n",
    "        answer += inner\n",
    "    return answer"
   ]
  },
  {
   "cell_type": "code",
   "execution_count": 2,
   "id": "92419789",
   "metadata": {
    "scrolled": false
   },
   "outputs": [
    {
     "data": {
      "text/plain": [
       "3"
      ]
     },
     "execution_count": 2,
     "metadata": {},
     "output_type": "execute_result"
    }
   ],
   "source": [
    "solution([1,2,3,4],[-3,-1,0,2])"
   ]
  },
  {
   "cell_type": "code",
   "execution_count": 3,
   "id": "e404d31a",
   "metadata": {},
   "outputs": [
    {
     "data": {
      "text/plain": [
       "-2"
      ]
     },
     "execution_count": 3,
     "metadata": {},
     "output_type": "execute_result"
    }
   ],
   "source": [
    "solution([-1,0,1],[1,0,-1])"
   ]
  },
  {
   "cell_type": "markdown",
   "id": "bd849838",
   "metadata": {},
   "source": [
    "## OX퀴즈\n",
    "\n",
    "덧셈, 뺄셈 수식들이 'X [연산자] Y = Z' 형태로 들어있는 문자열 배열 quiz가 매개변수로 주어집니다.  \n",
    "수식이 옳다면 \"O\"를 틀리다면 \"X\"를 순서대로 담은 배열을 return하도록 solution 함수를 완성해주세요.\n",
    "\n",
    "* 연산 기호와 숫자 사이는 항상 하나의 공백이 존재합니다. 단 음수를 표시하는 마이너스 기호와 숫자 사이에는 공백이 존재하지 않습니다.\n",
    "* 1 ≤ quiz의 길이 ≤ 10\n",
    "* X, Y, Z는 각각 0부터 9까지 숫자로 이루어진 정수를 의미하며, 각 숫자의 맨 앞에 마이너스 기호가 하나 있을 수 있고 이는 음수를 의미합니다.\n",
    "* X, Y, Z는 0을 제외하고는 0으로 시작하지 않습니다.\n",
    "* -10,000 ≤ X, Y ≤ 10,000\n",
    "* -20,000 ≤ Z ≤ 20,000\n",
    "* [연산자]는 + 와 - 중 하나입니다."
   ]
  },
  {
   "cell_type": "markdown",
   "id": "9815432d",
   "metadata": {},
   "source": [
    "|quiz|result|\n",
    "|:-:|:-:|\n",
    "|[\"3 - 4 = -3\", \"5 + 6 = 11\"]|[\"X\", \"O\"]|\n",
    "|[\"19 - 6 = 13\", \"5 + 66 = 71\", \"5 - 15 = 63\", \"3 - 1 = 2\"]|[\"O\", \"O\", \"X\", \"O\"]|"
   ]
  },
  {
   "cell_type": "code",
   "execution_count": 21,
   "id": "ac50c7af",
   "metadata": {},
   "outputs": [],
   "source": [
    "def solution(quiz):\n",
    "    answer = []\n",
    "    for eq in quiz:\n",
    "        eq = eq.replace('=', '==')\n",
    "        if eval(eq):\n",
    "            answer.append(\"O\")\n",
    "        else:\n",
    "            answer.append(\"X\")\n",
    "    return answer"
   ]
  },
  {
   "cell_type": "code",
   "execution_count": 22,
   "id": "d189aaad",
   "metadata": {},
   "outputs": [
    {
     "data": {
      "text/plain": [
       "['X', 'O']"
      ]
     },
     "execution_count": 22,
     "metadata": {},
     "output_type": "execute_result"
    }
   ],
   "source": [
    "solution([\"3 - 4 = -3\", \"5 + 6 = 11\"])"
   ]
  },
  {
   "cell_type": "code",
   "execution_count": 23,
   "id": "8c5af6ba",
   "metadata": {},
   "outputs": [
    {
     "data": {
      "text/plain": [
       "['O', 'O', 'X', 'O']"
      ]
     },
     "execution_count": 23,
     "metadata": {},
     "output_type": "execute_result"
    }
   ],
   "source": [
    "solution([\"19 - 6 = 13\", \"5 + 66 = 71\", \"5 - 15 = 63\", \"3 - 1 = 2\"])"
   ]
  }
 ],
 "metadata": {
  "kernelspec": {
   "display_name": "Python 3 (ipykernel)",
   "language": "python",
   "name": "python3"
  },
  "language_info": {
   "codemirror_mode": {
    "name": "ipython",
    "version": 3
   },
   "file_extension": ".py",
   "mimetype": "text/x-python",
   "name": "python",
   "nbconvert_exporter": "python",
   "pygments_lexer": "ipython3",
   "version": "3.9.12"
  },
  "toc": {
   "base_numbering": 1,
   "nav_menu": {},
   "number_sections": false,
   "sideBar": true,
   "skip_h1_title": false,
   "title_cell": "Table of Contents",
   "title_sidebar": "Contents",
   "toc_cell": false,
   "toc_position": {},
   "toc_section_display": true,
   "toc_window_display": false
  }
 },
 "nbformat": 4,
 "nbformat_minor": 5
}
