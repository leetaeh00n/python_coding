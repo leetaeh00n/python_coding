{
 "cells": [
  {
   "cell_type": "markdown",
   "id": "31f90abd",
   "metadata": {},
   "source": [
    "## 더하기 사이클\n",
    "**0보다 크거나 같고, 99보다 작거나 같은 정수**가 주어질 때 다음과 같은 연산을 할 수 있다.  \n",
    "먼저 주어진 수가 10보다 작다면 앞에 0을 붙여 두 자리 수로 만들고, 각 자리의 숫자를 더한다.  \n",
    "그 다음, 주어진 수의 가장 오른쪽 자리 수와 앞에서 구한 합의 가장 오른쪽 자리 수를 이어 붙이면 새로운 수를 만들 수 있다.  \n",
    "다음 예를 보자.  \n",
    "\n",
    "26부터 시작한다. 2+6 = 8이다.  \n",
    "새로운 수는 68이다. 6+8 = 14이다.   \n",
    "새로운 수는 84이다. 8+4 = 12이다.   \n",
    "새로운 수는 42이다. 4+2 = 6이다.   \n",
    "새로운 수는 26이다.  \n",
    "\n",
    "위의 예는 4번만에 원래 수로 돌아올 수 있다.  \n",
    "따라서 26의 사이클의 길이는 4이다.  \n",
    "\n",
    "N이 주어졌을 때, N의 사이클의 길이를 구하는 프로그램을 작성하시오.  \n",
    "예)  \n",
    "입력 : 1, 출력 : 60  \n",
    "입력 : 0, 출력 : 1  \n",
    "입력 : 55, 출력 : 3"
   ]
  },
  {
   "cell_type": "code",
   "execution_count": 8,
   "id": "66d3daae",
   "metadata": {},
   "outputs": [
    {
     "name": "stdout",
     "output_type": "stream",
     "text": [
      "0<=n<=99인 수를 입력하세요1\n",
      "60\n"
     ]
    }
   ],
   "source": [
    "# 수치형 풀이\n",
    "n = int(input('0<=n<=99인 수를 입력하세요'))\n",
    "num = n\n",
    "count = 0\n",
    "while True:\n",
    "    a = num // 10\n",
    "    b = num % 10\n",
    "    c = (a + b) % 10\n",
    "    num = (b * 10) + c\n",
    "    count += 1\n",
    "    if num == n:\n",
    "        print(count)\n",
    "        break"
   ]
  },
  {
   "cell_type": "code",
   "execution_count": 7,
   "id": "a370aa42",
   "metadata": {},
   "outputs": [
    {
     "name": "stdout",
     "output_type": "stream",
     "text": [
      "0<=n<=99인 수를 입력하세요55\n",
      "3\n"
     ]
    }
   ],
   "source": [
    "# 문자열 풀이\n",
    "n = input('0<=n<=99인 수를 입력하세요')\n",
    "count = 0\n",
    "num = n\n",
    "while True:\n",
    "    if len(num) == 1:\n",
    "        num = '0' + num\n",
    "    a, b = num[0], num[1]\n",
    "    c = str(int(a) + int(b))\n",
    "    num = num[-1] + c[-1]\n",
    "    count += 1\n",
    "    if num == n:\n",
    "        print(count)\n",
    "        break"
   ]
  },
  {
   "cell_type": "markdown",
   "id": "b2ee7660",
   "metadata": {},
   "source": [
    "## 피보나치 수\n",
    "피보나치 수는 0과 1로 시작한다. 0번째 피보나치 수는 0이고, 1번째 피보나치 수는 1이다.  \n",
    "그 다음 2번째 부터는 바로 앞 두 피보나치 수의 합이 된다.  \n",
    "\n",
    "이를 식으로 써보면 Fn = Fn-1 + Fn-2 (n ≥ 2)가 된다.  \n",
    "\n",
    "n=17일때 까지 피보나치 수를 써보면 다음과 같다.  \n",
    "\n",
    "0, 1, 1, 2, 3, 5, 8, 13, 21, 34, 55, 89, 144, 233, 377, 610, 987, 1597  \n",
    "\n",
    "n이 주어졌을 때, n번째 피보나치 수를 구하는 프로그램을 작성하시오.  \n",
    "예)  \n",
    "입력 : 10, 출력 : 55"
   ]
  },
  {
   "cell_type": "code",
   "execution_count": 1,
   "id": "1203cc07",
   "metadata": {},
   "outputs": [
    {
     "name": "stdout",
     "output_type": "stream",
     "text": [
      "10\n",
      "55\n"
     ]
    }
   ],
   "source": [
    "n = int(input())\n",
    "n_1 = 0\n",
    "n_2 = 1\n",
    "num = 0 \n",
    "for _ in range(n-1):\n",
    "    num = n_1 + n_2\n",
    "    n_1 = n_2\n",
    "    n_2 = num\n",
    "print(num)"
   ]
  }
 ],
 "metadata": {
  "kernelspec": {
   "display_name": "Python 3 (ipykernel)",
   "language": "python",
   "name": "python3"
  },
  "language_info": {
   "codemirror_mode": {
    "name": "ipython",
    "version": 3
   },
   "file_extension": ".py",
   "mimetype": "text/x-python",
   "name": "python",
   "nbconvert_exporter": "python",
   "pygments_lexer": "ipython3",
   "version": "3.9.12"
  },
  "toc": {
   "base_numbering": 1,
   "nav_menu": {},
   "number_sections": false,
   "sideBar": true,
   "skip_h1_title": false,
   "title_cell": "Table of Contents",
   "title_sidebar": "Contents",
   "toc_cell": false,
   "toc_position": {},
   "toc_section_display": true,
   "toc_window_display": false
  }
 },
 "nbformat": 4,
 "nbformat_minor": 5
}
