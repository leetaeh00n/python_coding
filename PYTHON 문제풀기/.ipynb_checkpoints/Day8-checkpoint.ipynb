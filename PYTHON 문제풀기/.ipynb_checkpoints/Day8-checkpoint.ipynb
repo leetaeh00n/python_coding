{
 "cells": [
  {
   "cell_type": "markdown",
   "id": "8e2a3d63",
   "metadata": {},
   "source": [
    "## 숫자 세기 알고리즘\n",
    "0부터 9999까지 8을 포함하지 않는 수는 총 몇개일까?  \n",
    "\n",
    "예시)  \n",
    "8, 108, 888, 9998 등은 8을 포함하고 있는 수입니다. 111, 299, 4 등과 같은 수는 8을 포함하지 않는 수 입니다."
   ]
  },
  {
   "cell_type": "code",
   "execution_count": null,
   "id": "231bae4e",
   "metadata": {},
   "outputs": [],
   "source": []
  },
  {
   "cell_type": "markdown",
   "id": "1fe52fd5",
   "metadata": {},
   "source": [
    "## 소인수분해\n",
    "정수 N이 주어졌을 때, 소인수분해하는 프로그램을 작성하시오.  \n",
    "N의 소인수분해 결과를 한 줄에 하나씩 오름차순으로 출력한다.  \n",
    "N이 1인 경우 아무것도 출력하지 않는다."
   ]
  },
  {
   "cell_type": "markdown",
   "id": "834563a9",
   "metadata": {},
   "source": [
    "입력 : 72  \n",
    "출력)  \n",
    "* 2  \n",
    "* 2\n",
    "* 2\n",
    "* 3\n",
    "* 3"
   ]
  },
  {
   "cell_type": "markdown",
   "id": "763dd7bf",
   "metadata": {},
   "source": [
    "입력 : 9991  \n",
    "출력)  \n",
    "* 97  \n",
    "* 103"
   ]
  },
  {
   "cell_type": "code",
   "execution_count": null,
   "id": "996acc7b",
   "metadata": {},
   "outputs": [],
   "source": []
  }
 ],
 "metadata": {
  "kernelspec": {
   "display_name": "Python 3 (ipykernel)",
   "language": "python",
   "name": "python3"
  },
  "language_info": {
   "codemirror_mode": {
    "name": "ipython",
    "version": 3
   },
   "file_extension": ".py",
   "mimetype": "text/x-python",
   "name": "python",
   "nbconvert_exporter": "python",
   "pygments_lexer": "ipython3",
   "version": "3.9.12"
  },
  "toc": {
   "base_numbering": 1,
   "nav_menu": {},
   "number_sections": false,
   "sideBar": true,
   "skip_h1_title": false,
   "title_cell": "Table of Contents",
   "title_sidebar": "Contents",
   "toc_cell": false,
   "toc_position": {},
   "toc_section_display": true,
   "toc_window_display": false
  }
 },
 "nbformat": 4,
 "nbformat_minor": 5
}
