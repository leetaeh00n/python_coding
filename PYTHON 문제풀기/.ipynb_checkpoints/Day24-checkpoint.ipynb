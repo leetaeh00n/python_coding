{
 "cells": [
  {
   "cell_type": "markdown",
   "id": "1ee1bd8c",
   "metadata": {},
   "source": [
    "## 나누어 떨어지는 숫자 배열\n",
    "array의 각 element 중 divisor로 나누어 떨어지는 값을 오름차순으로 정렬한 배열을 반환하는 함수, solution을 작성해주세요.  \n",
    "divisor로 나누어 떨어지는 element가 하나도 없다면 배열에 -1을 담아 반환하세요.\n",
    "* arr은 자연수를 담은 배열입니다.\n",
    "* 정수 i, j에 대해 i ≠ j 이면 arr[i] ≠ arr[j] 입니다.\n",
    "* divisor는 자연수입니다.\n",
    "* array는 길이 1 이상인 배열입니다."
   ]
  },
  {
   "cell_type": "markdown",
   "id": "229c05e3",
   "metadata": {},
   "source": [
    "|arr\t|divisor|\treturn|\n",
    "|-|-|-|\n",
    "|[5, 9, 7, 10]|\t5\t|[5, 10]|\n",
    "|[2, 36, 1, 3]|\t1\t|[1, 2, 3, 36]|\n",
    "|[3,2,6]\t|10\t|[-1]|"
   ]
  },
  {
   "cell_type": "markdown",
   "id": "7c99c589",
   "metadata": {},
   "source": [
    "1. 입출력 예#1  \n",
    "    * arr의 원소 중 5로 나누어 떨어지는 원소는 5와 10입니다. 따라서 [5, 10]을 리턴합니다.\n",
    "\n",
    "1. 입출력 예#2  \n",
    "    * arr의 모든 원소는 1으로 나누어 떨어집니다. 원소를 오름차순으로 정렬해 [1, 2, 3, 36]을 리턴합니다.\n",
    "\n",
    "1. 입출력 예#3  \n",
    "    * 3, 2, 6은 10으로 나누어 떨어지지 않습니다. 나누어 떨어지는 원소가 없으므로 [-1]을 리턴합니다."
   ]
  },
  {
   "cell_type": "code",
   "execution_count": null,
   "id": "579b036e",
   "metadata": {},
   "outputs": [],
   "source": [
    "def solution(arr, divisor):\n",
    "    answer = []\n",
    "    return answer"
   ]
  },
  {
   "cell_type": "markdown",
   "id": "2e9e0817",
   "metadata": {},
   "source": [
    "## n의 배수 고르기\n",
    "정수 n과 정수 배열 numlist가 매개변수로 주어질 때,  \n",
    "numlist에서 n의 배수가 아닌 수들을 제거한 배열을 return하도록 solution 함수를 완성해주세요."
   ]
  },
  {
   "cell_type": "markdown",
   "id": "e3bbb510",
   "metadata": {},
   "source": [
    "|n\t|numlist\t|result|\n",
    "|:-|:-|:-|\n",
    "|3\t|[4, 5, 6, 7, 8, 9, 10, 11, 12]|\t[6, 9, 12]|\n",
    "|5\t|[1, 9, 3, 10, 13, 5]\t|[10, 5]|\n",
    "|12|\t[2, 100, 120, 600, 12, 12]\t|[120, 600, 12, 12]|"
   ]
  },
  {
   "cell_type": "markdown",
   "id": "0300f0d9",
   "metadata": {},
   "source": [
    "입출력 예 #1  \n",
    "numlist에서 3의 배수만을 남긴 [6, 9, 12]를 return합니다.  \n",
    "\n",
    "입출력 예 #2  \n",
    "numlist에서 5의 배수만을 남긴 [10, 5]를 return합니다.  \n",
    "\n",
    "입출력 예 #3  \n",
    "numlist에서 12의 배수만을 남긴 [120, 600, 12, 12]를 return합니다."
   ]
  },
  {
   "cell_type": "code",
   "execution_count": null,
   "id": "2844ff9d",
   "metadata": {},
   "outputs": [],
   "source": [
    "def solution(n, numlist):\n",
    "    answer = []\n",
    "    return answer"
   ]
  }
 ],
 "metadata": {
  "kernelspec": {
   "display_name": "Python 3 (ipykernel)",
   "language": "python",
   "name": "python3"
  },
  "language_info": {
   "codemirror_mode": {
    "name": "ipython",
    "version": 3
   },
   "file_extension": ".py",
   "mimetype": "text/x-python",
   "name": "python",
   "nbconvert_exporter": "python",
   "pygments_lexer": "ipython3",
   "version": "3.9.12"
  },
  "toc": {
   "base_numbering": 1,
   "nav_menu": {},
   "number_sections": true,
   "sideBar": true,
   "skip_h1_title": false,
   "title_cell": "Table of Contents",
   "title_sidebar": "Contents",
   "toc_cell": false,
   "toc_position": {},
   "toc_section_display": true,
   "toc_window_display": false
  }
 },
 "nbformat": 4,
 "nbformat_minor": 5
}
