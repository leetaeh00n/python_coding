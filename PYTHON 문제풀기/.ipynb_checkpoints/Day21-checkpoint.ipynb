{
 "cells": [
  {
   "cell_type": "markdown",
   "id": "6d1d548b",
   "metadata": {},
   "source": [
    "## 공 던지기\n",
    "머쓱이는 친구들과 동그랗게 서서 공 던지기 게임을 하고 있습니다.  \n",
    "공은 1번부터 던지며 오른쪽으로 한 명을 건너뛰고 그다음 사람에게만 던질 수 있습니다.  \n",
    "친구들의 번호가 들어있는 정수 배열 numbers와 정수 K가 주어질 때,  \n",
    "k번째로 공을 던지는 사람의 번호는 무엇인지 return 하도록 solution 함수를 완성해보세요.\n",
    "\n",
    "1. 2 < numbers의 길이 < 100\n",
    "1. 0 < k < 1,000\n",
    "1. numbers의 첫 번째와 마지막 번호는 실제로 바로 옆에 있습니다.\n",
    "1. numbers는 1부터 시작하며 번호는 순서대로 올라갑니다."
   ]
  },
  {
   "cell_type": "markdown",
   "id": "39f8f01a",
   "metadata": {},
   "source": [
    "|numbers|\tk\t|result|\n",
    "|-|-|-|\n",
    "|[1, 2, 3, 4]\t|2\t|3|\n",
    "|[1, 2, 3, 4, 5, 6]|\t5\t|3|\n",
    "|[1, 2, 3]\t|3|\t2|"
   ]
  },
  {
   "cell_type": "code",
   "execution_count": null,
   "id": "a97c02cc",
   "metadata": {},
   "outputs": [],
   "source": [
    "def solution(numbers, k):\n",
    "    answer = 0\n",
    "    return answer"
   ]
  },
  {
   "cell_type": "markdown",
   "id": "9a9080b1",
   "metadata": {},
   "source": [
    "## 숨어있는 숫자의 덧셈\n",
    "\n",
    "문자열 my_string이 매개변수로 주어집니다.  \n",
    "my_string은 소문자, 대문자, 자연수로만 구성되어있습니다.  \n",
    "my_string안의 자연수들의 합을 return하도록 solution 함수를 완성해주세요."
   ]
  },
  {
   "cell_type": "code",
   "execution_count": null,
   "id": "e3a124f5",
   "metadata": {},
   "outputs": [],
   "source": [
    "def solution(my_string):\n",
    "    answer = 0\n",
    "    return answer"
   ]
  }
 ],
 "metadata": {
  "kernelspec": {
   "display_name": "Python 3 (ipykernel)",
   "language": "python",
   "name": "python3"
  },
  "language_info": {
   "codemirror_mode": {
    "name": "ipython",
    "version": 3
   },
   "file_extension": ".py",
   "mimetype": "text/x-python",
   "name": "python",
   "nbconvert_exporter": "python",
   "pygments_lexer": "ipython3",
   "version": "3.9.12"
  },
  "toc": {
   "base_numbering": 1,
   "nav_menu": {},
   "number_sections": false,
   "sideBar": true,
   "skip_h1_title": false,
   "title_cell": "Table of Contents",
   "title_sidebar": "Contents",
   "toc_cell": false,
   "toc_position": {},
   "toc_section_display": true,
   "toc_window_display": false
  }
 },
 "nbformat": 4,
 "nbformat_minor": 5
}
