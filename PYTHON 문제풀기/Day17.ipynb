{
 "cells": [
  {
   "cell_type": "markdown",
   "id": "a5b201eb",
   "metadata": {},
   "source": [
    "## 연속된 수의 합\n",
    "연속된 세 개의 정수를 더해 12가 되는 경우는 3, 4, 5입니다.  \n",
    "두 정수 num과 total이 주어집니다.  \n",
    "연속된 수 num개를 더한 값이 total이 될 때, 정수 배열을 오름차순으로 담아 return하도록 solution함수를 완성해보세요."
   ]
  },
  {
   "cell_type": "markdown",
   "id": "1c42d0b8",
   "metadata": {},
   "source": [
    "|num   |total   |result|\n",
    "|:-:|:-:|:-:|\n",
    "|3   |12   |[3, 4, 5]|\n",
    "|5   |15   |[1, 2, 3, 4, 5]|\n",
    "|4   |14   |[2, 3, 4, 5]|\n",
    "|5|   5   |[-1, 0, 1, 2, 3]|"
   ]
  },
  {
   "cell_type": "code",
   "execution_count": 1,
   "id": "ea4f4e02",
   "metadata": {},
   "outputs": [],
   "source": [
    "def solution(num, total):\n",
    "    answer = []\n",
    "    return answer"
   ]
  },
  {
   "cell_type": "markdown",
   "id": "f7414030",
   "metadata": {},
   "source": [
    "## 치킨 쿠폰\n",
    "프로그래머스 치킨은 치킨을 시켜먹으면 한 마리당 쿠폰을 한 장 발급합니다.  \n",
    "쿠폰을 열 장 모으면 치킨을 한 마리 서비스로 받을 수 있고, 서비스 치킨에도 쿠폰이 발급됩니다.  \n",
    "시켜먹은 치킨의 수 chicken이 매개변수로 주어질 때 받을 수 있는  \n",
    "최대 서비스 치킨의 수를 return하도록 solution 함수를 완성해주세요."
   ]
  },
  {
   "cell_type": "markdown",
   "id": "9967e226",
   "metadata": {},
   "source": [
    "|chicken   |result|\n",
    "|:-:|:-:|\n",
    "|100|   11|\n",
    "|1,081   |120|"
   ]
  },
  {
   "cell_type": "code",
   "execution_count": null,
   "id": "6ffd4127",
   "metadata": {},
   "outputs": [],
   "source": [
    "def solution(chicken):\n",
    "    answer = -1\n",
    "    return answer"
   ]
  }
 ],
 "metadata": {
  "kernelspec": {
   "display_name": "Python 3 (ipykernel)",
   "language": "python",
   "name": "python3"
  },
  "language_info": {
   "codemirror_mode": {
    "name": "ipython",
    "version": 3
   },
   "file_extension": ".py",
   "mimetype": "text/x-python",
   "name": "python",
   "nbconvert_exporter": "python",
   "pygments_lexer": "ipython3",
   "version": "3.9.12"
  },
  "toc": {
   "base_numbering": 1,
   "nav_menu": {},
   "number_sections": false,
   "sideBar": true,
   "skip_h1_title": false,
   "title_cell": "Table of Contents",
   "title_sidebar": "Contents",
   "toc_cell": false,
   "toc_position": {},
   "toc_section_display": true,
   "toc_window_display": false
  }
 },
 "nbformat": 4,
 "nbformat_minor": 5
}
