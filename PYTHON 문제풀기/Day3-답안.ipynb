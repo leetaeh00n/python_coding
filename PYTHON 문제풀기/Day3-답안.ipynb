{
 "cells": [
  {
   "cell_type": "markdown",
   "id": "1c8362bf",
   "metadata": {},
   "source": [
    "# 코딩도장\n",
    "## 배스킨라빈스31게임\n",
    "\n",
    "게임의 참여자들은 차례를 정해 1부터 31까지의 수를 순차적으로 부른다.  \n",
    "한번에 1~3개까지 수를 연달아 부를 수 있으며, 마지막 31을 부른 사람이 진다."
   ]
  },
  {
   "cell_type": "markdown",
   "id": "22da6a5c",
   "metadata": {},
   "source": [
    "Hint)  \n",
    "* 컴퓨터가 무조건 먼저 시작하고,1P는 무조건 2번째로 말한다.컴퓨터가 무조건 이기게 만들어라.\n",
    "* 힌트1:4n-2라는 공식을 사용하면 됩니다.\n",
    "* 힌트2:이 게임은 31을 부르면 지는 게임이니 30을 부르면 이깁니다."
   ]
  },
  {
   "cell_type": "code",
   "execution_count": null,
   "id": "a1de7558",
   "metadata": {},
   "outputs": [
    {
     "name": "stdout",
     "output_type": "stream",
     "text": [
      "31게임 START\n",
      "\n",
      "computer : 1,2\n",
      "\n",
      "\n",
      "콤마로 숫자를 구분하여 입력하세요\n",
      "You : 3,4,5\n",
      "\n",
      "computer : 6\n",
      "\n",
      "\n",
      "콤마로 숫자를 구분하여 입력하세요\n",
      "You : 7,8\n",
      "\n",
      "computer : 9,10\n",
      "\n",
      "\n",
      "콤마로 숫자를 구분하여 입력하세요\n",
      "You : 11\n",
      "\n",
      "computer : 12,13,14\n",
      "\n",
      "\n",
      "콤마로 숫자를 구분하여 입력하세요\n",
      "You : 15,16,17\n",
      "\n",
      "computer : 18\n",
      "\n",
      "\n",
      "콤마로 숫자를 구분하여 입력하세요\n",
      "You : 19\n",
      "\n",
      "computer : 20,21,22\n",
      "\n",
      "\n",
      "콤마로 숫자를 구분하여 입력하세요\n",
      "You : 23\n",
      "\n",
      "computer : 24,25,26\n",
      "\n",
      "\n"
     ]
    }
   ],
   "source": [
    "print('31게임 START')\n",
    "ans = 1\n",
    "print(f'\\ncomputer : {ans},{ans+1}')\n",
    "while True:\n",
    "    print('\\n')\n",
    "    x = input('콤마로 숫자를 구분하여 입력하세요\\nYou : ')\n",
    "    x1 = x.split(',')\n",
    "    k = int(x1[-1])\n",
    "    if len(x1) == 1:\n",
    "        print(f'\\ncomputer : {k+1},{k+2},{k+3}')\n",
    "        if k+3 == 30:\n",
    "            print('You:31 DEFEAT')\n",
    "            break\n",
    "    if len(x1) == 2:\n",
    "        print(f'\\ncomputer : {k+1},{k+2}')\n",
    "        if k+2 == 30:\n",
    "            print('You:31 DEFEAT')\n",
    "            break\n",
    "    if len(x1) == 3:\n",
    "        print(f'\\ncomputer : {k+1}')\n",
    "        if k+1 == 30:\n",
    "            print('You:31 DEFEAT')\n",
    "            break"
   ]
  },
  {
   "cell_type": "markdown",
   "id": "fc1d3b9d",
   "metadata": {},
   "source": [
    "## 3의 배수, 5의 배수\n",
    "\n",
    "10미만의 자연수에서 3과 5의 배수를 구하면 3,5,6,9이다. 이들의 총합은 23이다.  \n",
    "\n",
    "1000미만의 자연수에서 3,5의 배수의 총합을 구하라."
   ]
  },
  {
   "cell_type": "code",
   "execution_count": 6,
   "id": "c38c3bd9",
   "metadata": {},
   "outputs": [
    {
     "data": {
      "text/plain": [
       "233168"
      ]
     },
     "execution_count": 6,
     "metadata": {},
     "output_type": "execute_result"
    }
   ],
   "source": [
    "## set함수 사용\n",
    "set3 = set(range(3,1000,3))\n",
    "set5 = set(range(5,1000,5))\n",
    "sum(set(set3|set5))"
   ]
  },
  {
   "cell_type": "code",
   "execution_count": 9,
   "id": "e417525b",
   "metadata": {},
   "outputs": [
    {
     "data": {
      "text/plain": [
       "233168"
      ]
     },
     "execution_count": 9,
     "metadata": {},
     "output_type": "execute_result"
    }
   ],
   "source": [
    "## for문, if문 사용\n",
    "u = []\n",
    "for i in range(1,1000):\n",
    "    if (i % 3 == 0) or (i % 5 ==0):\n",
    "        u.append(i)\n",
    "sum(u)"
   ]
  }
 ],
 "metadata": {
  "kernelspec": {
   "display_name": "Python 3 (ipykernel)",
   "language": "python",
   "name": "python3"
  },
  "language_info": {
   "codemirror_mode": {
    "name": "ipython",
    "version": 3
   },
   "file_extension": ".py",
   "mimetype": "text/x-python",
   "name": "python",
   "nbconvert_exporter": "python",
   "pygments_lexer": "ipython3",
   "version": "3.9.12"
  },
  "toc": {
   "base_numbering": 1,
   "nav_menu": {},
   "number_sections": false,
   "sideBar": true,
   "skip_h1_title": false,
   "title_cell": "Table of Contents",
   "title_sidebar": "Contents",
   "toc_cell": false,
   "toc_position": {},
   "toc_section_display": true,
   "toc_window_display": false
  }
 },
 "nbformat": 4,
 "nbformat_minor": 5
}
