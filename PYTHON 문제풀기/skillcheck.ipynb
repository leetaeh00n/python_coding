{
 "cells": [
  {
   "cell_type": "code",
   "execution_count": 23,
   "id": "8f4bab12",
   "metadata": {},
   "outputs": [],
   "source": [
    "arr1 = [9, 20, 28, 18, 11]\n",
    "arr2 = [30, 1, 21, 17, 28]"
   ]
  },
  {
   "cell_type": "code",
   "execution_count": 30,
   "id": "70402680",
   "metadata": {},
   "outputs": [],
   "source": [
    "answer=[]\n",
    "for i, j in zip(arr1, arr2):\n",
    "    a = format(i, 'b').zfill(5)\n",
    "    b = format(j, 'b').zfill(5)\n",
    "    kk = ''\n",
    "    for k, l in zip(a, b):\n",
    "        kk += str(int(k) + int(l))\n",
    "    kk = kk.replace('1', '#')\n",
    "    kk = kk.replace('2', '#')\n",
    "    kk = kk.replace('0', ' ')\n",
    "    answer.append(kk)"
   ]
  },
  {
   "cell_type": "code",
   "execution_count": 31,
   "id": "be354020",
   "metadata": {},
   "outputs": [
    {
     "data": {
      "text/plain": [
       "['#####', '# # #', '### #', '#  ##', '#####']"
      ]
     },
     "execution_count": 31,
     "metadata": {},
     "output_type": "execute_result"
    }
   ],
   "source": [
    "answer"
   ]
  },
  {
   "cell_type": "code",
   "execution_count": null,
   "id": "023e6b3a",
   "metadata": {},
   "outputs": [],
   "source": []
  },
  {
   "cell_type": "code",
   "execution_count": 18,
   "id": "920e314c",
   "metadata": {},
   "outputs": [
    {
     "data": {
      "text/plain": [
       "'00001'"
      ]
     },
     "execution_count": 18,
     "metadata": {},
     "output_type": "execute_result"
    }
   ],
   "source": [
    "format(1, 'b').zfill(5)"
   ]
  },
  {
   "cell_type": "code",
   "execution_count": 13,
   "id": "dda5c811",
   "metadata": {},
   "outputs": [
    {
     "name": "stdout",
     "output_type": "stream",
     "text": [
      "ZzYy\n"
     ]
    }
   ],
   "source": [
    "s = 'AaZz'\n",
    "n = 25\n",
    "so = 'abcdefghijklmnopqrstuvwxyz'\n",
    "dae = 'ABCEDFGHIJKLMNOPQRSTUVWXYZ'\n",
    "answer = ''\n",
    "for i in s:\n",
    "    if i in so:\n",
    "        answer += so[so.index(i) + n - 26]\n",
    "    elif i in dae:\n",
    "        answer += dae[dae.index(i) + n - 26]\n",
    "    elif i == ' ':\n",
    "        answer += ' '\n",
    "print(answer)"
   ]
  },
  {
   "cell_type": "code",
   "execution_count": null,
   "id": "9b8270c8",
   "metadata": {},
   "outputs": [],
   "source": [
    "def solution(s, n):\n",
    "    so = 'abcdefghijklmnopqrstuvwxyz'\n",
    "    dae = 'ABCEDFGHIJKLMNOPQRSTUVWXYZ'\n",
    "    answer = ''\n",
    "    for i in s:\n",
    "        if i in so:\n",
    "            answer += s[so.index(i) + n]\n",
    "        elif i in dae:\n",
    "            answer += s[dae.index(i) + n]\n",
    "            \n",
    "            \n",
    "            \n",
    "    return answer"
   ]
  }
 ],
 "metadata": {
  "kernelspec": {
   "display_name": "Python 3 (ipykernel)",
   "language": "python",
   "name": "python3"
  },
  "language_info": {
   "codemirror_mode": {
    "name": "ipython",
    "version": 3
   },
   "file_extension": ".py",
   "mimetype": "text/x-python",
   "name": "python",
   "nbconvert_exporter": "python",
   "pygments_lexer": "ipython3",
   "version": "3.9.12"
  },
  "toc": {
   "base_numbering": 1,
   "nav_menu": {},
   "number_sections": true,
   "sideBar": true,
   "skip_h1_title": false,
   "title_cell": "Table of Contents",
   "title_sidebar": "Contents",
   "toc_cell": false,
   "toc_position": {},
   "toc_section_display": true,
   "toc_window_display": false
  }
 },
 "nbformat": 4,
 "nbformat_minor": 5
}
