{
 "cells": [
  {
   "cell_type": "markdown",
   "id": "a321e054",
   "metadata": {},
   "source": [
    "# CodeUp\n",
    "## 문제 4041 \n",
    "### 숫자다루기\n",
    "자연수 35를 뒤집으면 53이 되고, 각 자리수를 합하면 8이 된다. 또, 1200을 뒤집으면 21이 되고, 각 자릿수를 합하면 3이 된다.  \n",
    "즉, 뒤집었을 때 불필요한 0은 무시된다.\n",
    "\n",
    " \n",
    "\n",
    "자연수 N이 입력되면 그 수를 뒤집은 수와 각 자릿수의 합을 출력하는 프로그램을 작성하시오."
   ]
  },
  {
   "cell_type": "code",
   "execution_count": null,
   "id": "7a359ae0",
   "metadata": {},
   "outputs": [],
   "source": []
  },
  {
   "cell_type": "markdown",
   "id": "61503b39",
   "metadata": {},
   "source": [
    "# 코딩도장\n",
    "## UP&Down 숫자맞추기 게임\n",
    "\n",
    "컴퓨터가 1~100 숫자(정수 범위) 중 하나를 랜덤으로 정합니다. (이를 알려주지 않습니다.)  \n",
    "사용자는 이 숫자를 맞추어야 합니다.  \n",
    "입력한 숫자보다 정답이 크면 → \"UP\" 출력,  \n",
    "입력한 숫자보다 정답이 작으면 → \"DOWN\" 출력.  \n",
    "정답을 맞추면 → \"정답\"을 출력하고, 지금까지 숫자를 입력한 횟수를 알려줍니다.  "
   ]
  },
  {
   "cell_type": "markdown",
   "id": "595fb335",
   "metadata": {},
   "source": [
    "(예시)\n",
    "컴퓨터가 1-100 중 랜덤 숫자 하나를 정합니다.  \n",
    "이 숫자를 맞춰주세요.  \n",
    "1-100 숫자 입력:50  \n",
    "DOWN  \n",
    "1-100 숫자 입력:25  \n",
    "UP  \n",
    "1-100 숫자 입력:38  \n",
    "DOWN  \n",
    "1-100 숫자 입력:32  \n",
    "UP  \n",
    "1-100 숫자 입력:35\n",
    "UP\n",
    "1-100 숫자 입력:37\n",
    "DOWN\n",
    "1-100 숫자 입력:36\n",
    "정답입니다! 7회 만에 맞췄어요."
   ]
  },
  {
   "cell_type": "code",
   "execution_count": null,
   "id": "c8da2368",
   "metadata": {},
   "outputs": [],
   "source": []
  }
 ],
 "metadata": {
  "kernelspec": {
   "display_name": "Python 3 (ipykernel)",
   "language": "python",
   "name": "python3"
  },
  "language_info": {
   "codemirror_mode": {
    "name": "ipython",
    "version": 3
   },
   "file_extension": ".py",
   "mimetype": "text/x-python",
   "name": "python",
   "nbconvert_exporter": "python",
   "pygments_lexer": "ipython3",
   "version": "3.9.12"
  },
  "toc": {
   "base_numbering": 1,
   "nav_menu": {},
   "number_sections": false,
   "sideBar": true,
   "skip_h1_title": false,
   "title_cell": "Table of Contents",
   "title_sidebar": "Contents",
   "toc_cell": false,
   "toc_position": {},
   "toc_section_display": true,
   "toc_window_display": false
  }
 },
 "nbformat": 4,
 "nbformat_minor": 5
}
