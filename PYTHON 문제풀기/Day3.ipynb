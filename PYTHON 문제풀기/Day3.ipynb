{
 "cells": [
  {
   "cell_type": "markdown",
   "id": "1c8362bf",
   "metadata": {},
   "source": [
    "# 코딩도장\n",
    "## 배스킨라빈스31게임\n",
    "\n",
    "게임의 참여자들은 차례를 정해 1부터 31까지의 수를 순차적으로 부른다.  \n",
    "한번에 1~3개까지 수를 연달아 부를 수 있으며, 마지막 31을 부른 사람이 진다."
   ]
  },
  {
   "cell_type": "markdown",
   "id": "22da6a5c",
   "metadata": {},
   "source": [
    "Hint)  \n",
    "* 컴퓨터가 무조건 먼저 시작하고,1P는 무조건 2번째로 말한다.컴퓨터가 무조건 이기게 만들어라.\n",
    "* 힌트1:4n-2라는 공식을 사용하면 됩니다.\n",
    "* 힌트2:이 게임은 31을 부르면 지는 게임이니 30을 부르면 이깁니다."
   ]
  },
  {
   "cell_type": "code",
   "execution_count": null,
   "id": "ca864e9f",
   "metadata": {},
   "outputs": [],
   "source": []
  },
  {
   "cell_type": "markdown",
   "id": "fc1d3b9d",
   "metadata": {},
   "source": [
    "## 3의 배수, 5의 배수\n",
    "\n",
    "10미만의 자연수에서 3과 5의 배수를 구하면 3,5,6,9이다. 이들의 총합은 23이다.  \n",
    "\n",
    "1000미만의 자연수에서 3,5의 배수의 총합을 구하라."
   ]
  },
  {
   "cell_type": "code",
   "execution_count": null,
   "id": "77c68d15",
   "metadata": {},
   "outputs": [],
   "source": [
    "# set사용"
   ]
  },
  {
   "cell_type": "code",
   "execution_count": null,
   "id": "e69320dc",
   "metadata": {},
   "outputs": [],
   "source": [
    "# for, if문 사용"
   ]
  }
 ],
 "metadata": {
  "kernelspec": {
   "display_name": "Python 3 (ipykernel)",
   "language": "python",
   "name": "python3"
  },
  "language_info": {
   "codemirror_mode": {
    "name": "ipython",
    "version": 3
   },
   "file_extension": ".py",
   "mimetype": "text/x-python",
   "name": "python",
   "nbconvert_exporter": "python",
   "pygments_lexer": "ipython3",
   "version": "3.9.12"
  },
  "toc": {
   "base_numbering": 1,
   "nav_menu": {},
   "number_sections": false,
   "sideBar": true,
   "skip_h1_title": false,
   "title_cell": "Table of Contents",
   "title_sidebar": "Contents",
   "toc_cell": false,
   "toc_position": {},
   "toc_section_display": true,
   "toc_window_display": false
  }
 },
 "nbformat": 4,
 "nbformat_minor": 5
}
